{
 "cells": [
  {
   "cell_type": "markdown",
   "id": "f4423abd-d346-4bae-b285-f8baa42093cc",
   "metadata": {},
   "source": [
    "# Data Science Tools and Ecosystem"
   ]
  },
  {
   "cell_type": "markdown",
   "id": "8180ac6a-3f80-4f1b-976a-5460f67d8d16",
   "metadata": {},
   "source": [
    "In this notebook, Data Science Tools and Ecosystem are summarized."
   ]
  },
  {
   "cell_type": "markdown",
   "id": "9c3acdc8-98bb-485b-8629-a0dc02646699",
   "metadata": {},
   "source": [
    "**Objectives:**\n",
    "* List popular languages for Data Science\n",
    "* List commonly used libraries for Data Science\n",
    "* List popular IDEs\n",
    "* Present examples of arithmetic operations"
   ]
  },
  {
   "cell_type": "markdown",
   "id": "92f6c158-3513-48eb-8ba5-4f2c8aa7217b",
   "metadata": {},
   "source": [
    "## Author\n",
    "Nyx"
   ]
  },
  {
   "cell_type": "markdown",
   "id": "e6c3f353-c296-41e5-8669-6ee6974e4629",
   "metadata": {},
   "source": [
    "Some of the popular languages that Data Scientists use are:\n",
    "1. python\n",
    "2. R\n",
    "3. SQL\n",
    "4. Java"
   ]
  },
  {
   "cell_type": "markdown",
   "id": "1232e159-be2a-4d75-9486-015debc4385b",
   "metadata": {},
   "source": [
    "Some of the commonly used libraries used by Data Scientists include:\n",
    "1. pandas\n",
    "2. numpy\n",
    "3. matplotlib\n",
    "4. tensorflow"
   ]
  },
  {
   "cell_type": "markdown",
   "id": "30a86cb3-ef44-4115-90be-31380d0f1d6f",
   "metadata": {},
   "source": [
    "| Data Science Tools |\n",
    "|--------------------|\n",
    "| RStudio |\n",
    "| Spyder |\n",
    "| Jupyter Lab |\n"
   ]
  },
  {
   "cell_type": "markdown",
   "id": "05b53c43-3585-4777-94ec-51ac0bafa89b",
   "metadata": {},
   "source": [
    "### Below are a few examples of evaluating arithmetic expressions in Python."
   ]
  },
  {
   "cell_type": "code",
   "execution_count": 2,
   "id": "8518384e-cb8f-430d-80a0-93c4ddda96bb",
   "metadata": {},
   "outputs": [
    {
     "data": {
      "text/plain": [
       "17"
      ]
     },
     "execution_count": 2,
     "metadata": {},
     "output_type": "execute_result"
    }
   ],
   "source": [
    "# This a simple arithmetic expression to multiply then add integers\n",
    "(3*4)+5"
   ]
  },
  {
   "cell_type": "code",
   "execution_count": 3,
   "id": "deb804ed-cac5-4c12-92e6-0607d0414d5c",
   "metadata": {},
   "outputs": [
    {
     "data": {
      "text/plain": [
       "3.3333333333333335"
      ]
     },
     "execution_count": 3,
     "metadata": {},
     "output_type": "execute_result"
    }
   ],
   "source": [
    "# This will convert 200 minutes to hours by diving by 60\n",
    "200/60"
   ]
  },
  {
   "cell_type": "code",
   "execution_count": null,
   "id": "f44892ea-d2b1-46e8-907b-a30db4668429",
   "metadata": {},
   "outputs": [],
   "source": []
  }
 ],
 "metadata": {
  "kernelspec": {
   "display_name": "Python 3 (ipykernel)",
   "language": "python",
   "name": "python3"
  },
  "language_info": {
   "codemirror_mode": {
    "name": "ipython",
    "version": 3
   },
   "file_extension": ".py",
   "mimetype": "text/x-python",
   "name": "python",
   "nbconvert_exporter": "python",
   "pygments_lexer": "ipython3",
   "version": "3.12.8"
  }
 },
 "nbformat": 4,
 "nbformat_minor": 5
}
